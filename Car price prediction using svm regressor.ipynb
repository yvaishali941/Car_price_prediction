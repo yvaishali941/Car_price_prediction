{
 "cells": [
  {
   "cell_type": "code",
   "execution_count": 2,
   "id": "525aad18",
   "metadata": {},
   "outputs": [],
   "source": [
    "import numpy as np\n",
    "import pandas as pd\n",
    "from sklearn.model_selection import train_test_split,KFold,RandomizedSearchCV\n",
    "from sklearn.svm import SVR\n",
    "from sklearn.metrics import mean_squared_error,mean_absolute_error,r2_score"
   ]
  },
  {
   "cell_type": "code",
   "execution_count": 3,
   "id": "44a60e30",
   "metadata": {},
   "outputs": [],
   "source": [
    "df=pd.read_csv('cpp_cleaned_data')"
   ]
  },
  {
   "cell_type": "code",
   "execution_count": 6,
   "id": "b56ed075",
   "metadata": {},
   "outputs": [],
   "source": [
    "x=df.drop(['price'],axis=1)\n",
    "y=df['price']"
   ]
  },
  {
   "cell_type": "code",
   "execution_count": 7,
   "id": "de647ec9",
   "metadata": {},
   "outputs": [],
   "source": [
    "x_train,x_test,y_train,y_test=train_test_split(x,y,test_size=0.2,random_state=41)"
   ]
  },
  {
   "cell_type": "code",
   "execution_count": 28,
   "id": "559806f1",
   "metadata": {},
   "outputs": [
    {
     "name": "stdout",
     "output_type": "stream",
     "text": [
      "score for train data: 0.6359865804791341\n",
      "score for test data: 0.611811019126264\n"
     ]
    }
   ],
   "source": [
    "svr_linear=SVR(kernel='linear',C=10.0,epsilon=0.3)\n",
    "svr_linear.fit(x_train,y_train)\n",
    "print(f'score for train data: {svr_linear.score(x_train,y_train)}')\n",
    "print(f'score for test data: {svr_linear.score(x_test,y_test)}')"
   ]
  },
  {
   "cell_type": "code",
   "execution_count": 30,
   "id": "bbaf7d93",
   "metadata": {},
   "outputs": [
    {
     "name": "stdout",
     "output_type": "stream",
     "text": [
      "score for train data: -0.12497415312845694\n",
      "score for test data: -0.10469246544134148\n"
     ]
    }
   ],
   "source": [
    "svr_rbf=SVR(kernel='rbf',C=10.0,epsilon=0.3)\n",
    "svr_rbf.fit(x_train,y_train)\n",
    "print(f'score for train data: {svr_rbf.score(x_train,y_train)}')\n",
    "print(f'score for test data: {svr_rbf.score(x_test,y_test)}')"
   ]
  },
  {
   "cell_type": "code",
   "execution_count": 13,
   "id": "54601f6b",
   "metadata": {},
   "outputs": [
    {
     "name": "stdout",
     "output_type": "stream",
     "text": [
      "score for train data: -0.14953301114723616\n",
      "score for test data: -0.1311863641966493\n"
     ]
    }
   ],
   "source": [
    "svr_poly=SVR(kernel='poly')\n",
    "svr_poly.fit(x_train,y_train)\n",
    "print(f'score for train data: {svr_poly.score(x_train,y_train)}')\n",
    "print(f'score for test data: {svr_poly.score(x_test,y_test)}')"
   ]
  },
  {
   "cell_type": "code",
   "execution_count": 14,
   "id": "ba977994",
   "metadata": {},
   "outputs": [
    {
     "name": "stdout",
     "output_type": "stream",
     "text": [
      "score for train data: -0.1471008510632572\n",
      "score for test data: -0.12693678143147835\n"
     ]
    }
   ],
   "source": [
    "svr_smd=SVR(kernel='sigmoid')\n",
    "svr_smd.fit(x_train,y_train)\n",
    "print(f'score for train data: {svr_smd.score(x_train,y_train)}')\n",
    "print(f'score for test data: {svr_smd.score(x_test,y_test)}')"
   ]
  },
  {
   "cell_type": "code",
   "execution_count": null,
   "id": "93db43b3",
   "metadata": {},
   "outputs": [],
   "source": []
  },
  {
   "cell_type": "code",
   "execution_count": null,
   "id": "d9186751",
   "metadata": {},
   "outputs": [],
   "source": []
  },
  {
   "cell_type": "code",
   "execution_count": null,
   "id": "ee190687",
   "metadata": {},
   "outputs": [],
   "source": []
  },
  {
   "cell_type": "code",
   "execution_count": null,
   "id": "0c1ef0c0",
   "metadata": {},
   "outputs": [],
   "source": []
  },
  {
   "cell_type": "code",
   "execution_count": null,
   "id": "bd6c8727",
   "metadata": {},
   "outputs": [],
   "source": []
  },
  {
   "cell_type": "code",
   "execution_count": null,
   "id": "a8dda6c9",
   "metadata": {},
   "outputs": [],
   "source": []
  }
 ],
 "metadata": {
  "kernelspec": {
   "display_name": "Python 3",
   "language": "python",
   "name": "python3"
  },
  "language_info": {
   "codemirror_mode": {
    "name": "ipython",
    "version": 3
   },
   "file_extension": ".py",
   "mimetype": "text/x-python",
   "name": "python",
   "nbconvert_exporter": "python",
   "pygments_lexer": "ipython3",
   "version": "3.8.5"
  }
 },
 "nbformat": 4,
 "nbformat_minor": 5
}
