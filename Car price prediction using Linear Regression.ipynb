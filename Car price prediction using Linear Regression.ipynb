{
 "cells": [
  {
   "cell_type": "code",
   "execution_count": 1,
   "id": "b463d6f8",
   "metadata": {},
   "outputs": [],
   "source": [
    "import numpy as np\n",
    "import pandas as pd\n",
    "from sklearn.model_selection import train_test_split,KFold,RandomizedSearchCV\n",
    "from sklearn.linear_model import LinearRegression,Ridge,Lasso\n",
    "from sklearn.metrics import mean_squared_error,mean_absolute_error,r2_score"
   ]
  },
  {
   "cell_type": "code",
   "execution_count": 2,
   "id": "c173db22",
   "metadata": {},
   "outputs": [],
   "source": [
    "df=pd.read_csv('cpp_cleaned_data')"
   ]
  },
  {
   "cell_type": "code",
   "execution_count": 3,
   "id": "f8f0b519",
   "metadata": {},
   "outputs": [],
   "source": [
    "x=df.drop(['price'],axis=1)\n",
    "y=df['price']"
   ]
  },
  {
   "cell_type": "code",
   "execution_count": 4,
   "id": "554d0f5d",
   "metadata": {},
   "outputs": [],
   "source": [
    "x_train,x_test,y_train,y_test=train_test_split(x,y,test_size=0.2,random_state=12)"
   ]
  },
  {
   "cell_type": "code",
   "execution_count": null,
   "id": "561168d1",
   "metadata": {},
   "outputs": [],
   "source": []
  },
  {
   "cell_type": "code",
   "execution_count": null,
   "id": "8047570b",
   "metadata": {},
   "outputs": [],
   "source": []
  },
  {
   "cell_type": "code",
   "execution_count": 5,
   "id": "6d716564",
   "metadata": {},
   "outputs": [
    {
     "data": {
      "text/plain": [
       "LinearRegression()"
      ]
     },
     "execution_count": 5,
     "metadata": {},
     "output_type": "execute_result"
    }
   ],
   "source": [
    "lr=LinearRegression()\n",
    "lr.fit(x_train,y_train)\n"
   ]
  },
  {
   "cell_type": "code",
   "execution_count": 6,
   "id": "80b22fd5",
   "metadata": {},
   "outputs": [
    {
     "name": "stdout",
     "output_type": "stream",
     "text": [
      "coefficient is: [ 4.63610495e+02  2.39108747e+02 -1.86107149e+01 -1.98412933e+02\n",
      " -3.21196906e+02  4.31589806e+01 -9.19939249e+01 -1.52022800e+02\n",
      " -1.91891801e+02 -5.39475453e+00  4.61446468e+02  8.25152475e+01\n",
      " -5.05885462e+02 -4.11156386e+02 -7.39975491e+01  3.57726498e+02\n",
      " -2.91979735e+02 -7.81207302e+02 -6.73421806e+02 -1.22416613e+03\n",
      "  1.10910563e+03  2.25649118e+03  1.43600328e+03 -8.80661072e+02\n",
      " -6.28801687e+02  6.10492086e+02  6.29932941e+01 -1.31981793e+03\n",
      " -1.73483779e+03 -4.09420006e+03 -9.84943849e+03 -5.20075552e+03\n",
      " -8.60371838e+02 -1.49739363e+02 -1.73483779e+03 -1.28264395e+01\n",
      " -4.41171116e+02  7.39975491e+01 -6.13908924e-12 -5.83933355e+02\n",
      " -4.22522646e+02 -2.92972392e+02  3.60387333e+02  4.51159865e+02\n",
      " -7.62153587e+02  2.32252153e+03  2.34803629e+02  2.77584710e+03\n",
      " -8.87506185e+02  9.74731259e+02  1.48068359e+02 -1.25978916e+03]\n",
      "intercept is: 15317.313506895256\n"
     ]
    }
   ],
   "source": [
    "print(f\"coefficient is: {lr.coef_}\")\n",
    "print(f\"intercept is: {lr.intercept_}\")"
   ]
  },
  {
   "cell_type": "code",
   "execution_count": 7,
   "id": "8ec933b6",
   "metadata": {},
   "outputs": [],
   "source": [
    "y_pred=lr.predict(x_test)"
   ]
  },
  {
   "cell_type": "code",
   "execution_count": 8,
   "id": "75387184",
   "metadata": {},
   "outputs": [
    {
     "name": "stdout",
     "output_type": "stream",
     "text": [
      "score for train data is: 0.9344517819958736\n",
      "score for test data is: 0.7689404435944702\n"
     ]
    }
   ],
   "source": [
    "#check the model for overfitting or underfitting\n",
    "print(f\"score for train data is: {lr.score(x_train,y_train)}\")\n",
    "print(f\"score for test data is: {lr.score(x_test,y_test)}\")\n"
   ]
  },
  {
   "cell_type": "code",
   "execution_count": 9,
   "id": "1e6b87ed",
   "metadata": {},
   "outputs": [],
   "source": [
    "#Adjust r-square\n",
    "import statsmodels.api as sm\n",
    "x = sm.add_constant(x_train)\n",
    "model = sm.OLS(y_train, x_train).fit()"
   ]
  },
  {
   "cell_type": "code",
   "execution_count": 10,
   "id": "89abc1cb",
   "metadata": {},
   "outputs": [
    {
     "name": "stdout",
     "output_type": "stream",
     "text": [
      "mse: 10976256.379504768\n",
      "rmse: 3313.0433712079243\n",
      "mae: 2255.459635195865\n",
      "r_squared: 0.7689404435944702\n",
      "Adjusted_R_square: 0.9062775479414684\n"
     ]
    }
   ],
   "source": [
    "#check the accuracy of model\n",
    "mse=mean_squared_error(y_test,y_pred)\n",
    "rmse=mse**0.5\n",
    "mae=mean_absolute_error(y_test,y_pred)\n",
    "r_squared=r2_score(y_test,y_pred)\n",
    "Adjusted_R_square =model.rsquared_adj\n",
    "print(f\"mse: {mse}\\nrmse: {rmse}\\nmae: {mae}\\nr_squared: {r_squared}\\nAdjusted_R_square: {Adjusted_R_square}\")"
   ]
  },
  {
   "cell_type": "code",
   "execution_count": 11,
   "id": "679b047a",
   "metadata": {},
   "outputs": [
    {
     "data": {
      "text/plain": [
       "array([21084.93204825])"
      ]
     },
     "execution_count": 11,
     "metadata": {},
     "output_type": "execute_result"
    }
   ],
   "source": [
    "lr.predict([x_test.iloc[1,:]])"
   ]
  },
  {
   "cell_type": "code",
   "execution_count": 12,
   "id": "b19125a6",
   "metadata": {},
   "outputs": [
    {
     "data": {
      "text/plain": [
       "17710.0"
      ]
     },
     "execution_count": 12,
     "metadata": {},
     "output_type": "execute_result"
    }
   ],
   "source": [
    "y_test.iloc[1]"
   ]
  },
  {
   "cell_type": "markdown",
   "id": "132c0e72",
   "metadata": {},
   "source": [
    "### Using Lasso Regression"
   ]
  },
  {
   "cell_type": "code",
   "execution_count": 13,
   "id": "680cc41f",
   "metadata": {},
   "outputs": [
    {
     "name": "stderr",
     "output_type": "stream",
     "text": [
      "/home/vaishu/.local/lib/python3.8/site-packages/sklearn/linear_model/_coordinate_descent.py:530: ConvergenceWarning: Objective did not converge. You might want to increase the number of iterations. Duality gap: 45038459.73553157, tolerance: 1095741.0573906053\n",
      "  model = cd_fast.enet_coordinate_descent(\n"
     ]
    },
    {
     "data": {
      "text/plain": [
       "Lasso(alpha=0.01)"
      ]
     },
     "execution_count": 13,
     "metadata": {},
     "output_type": "execute_result"
    }
   ],
   "source": [
    "lasso=Lasso(alpha=0.01)\n",
    "lasso.fit(x_train,y_train)"
   ]
  },
  {
   "cell_type": "code",
   "execution_count": 14,
   "id": "21dbb819",
   "metadata": {},
   "outputs": [
    {
     "name": "stdout",
     "output_type": "stream",
     "text": [
      "coefficient is: [ 4.63515368e+02  2.39396939e+02 -1.85936766e+01 -1.98369631e+02\n",
      " -3.21178519e+02  4.30510868e+01 -9.19800545e+01 -1.52014662e+02\n",
      " -1.91893280e+02 -5.35656476e+00  4.61409205e+02  8.25408048e+01\n",
      " -5.05920065e+02 -4.11178497e+02 -2.86040565e+02  3.58015196e+02\n",
      " -2.91873738e+02 -7.80926687e+02 -6.73081977e+02 -1.22391333e+03\n",
      "  1.10864214e+03  2.25624314e+03  1.43597790e+03 -8.80484231e+02\n",
      " -6.28885277e+02  6.10249068e+02  6.30370824e+01 -1.31976877e+03\n",
      " -5.10947561e+02 -4.09377207e+03 -9.84840396e+03 -5.20042424e+03\n",
      " -8.60045385e+02 -1.49707897e+02 -2.95787667e+03 -1.25241482e+01\n",
      " -4.40954338e+02 -1.38021800e+02 -0.00000000e+00 -5.83455346e+02\n",
      " -4.22368948e+02 -2.92888146e+02  3.60326251e+02  4.51052555e+02\n",
      " -7.61935401e+02  2.32233110e+03  2.34900963e+02  2.77501709e+03\n",
      " -8.85409093e+02  9.74259887e+02  1.47186332e+02 -1.25977272e+03]\n",
      "intercept is: 15317.15513556972\n"
     ]
    }
   ],
   "source": [
    "print(f\"coefficient is: {lasso.coef_}\")\n",
    "print(f\"intercept is: {lasso.intercept_}\")"
   ]
  },
  {
   "cell_type": "code",
   "execution_count": 15,
   "id": "64f75fd6",
   "metadata": {},
   "outputs": [
    {
     "name": "stdout",
     "output_type": "stream",
     "text": [
      "score for train data is: 0.9344517819958736\n",
      "score for test data is: 0.7689404435944702\n"
     ]
    }
   ],
   "source": [
    "#check the model for overfitting or underfitting\n",
    "print(f\"score for train data is: {lr.score(x_train,y_train)}\")\n",
    "print(f\"score for test data is: {lr.score(x_test,y_test)}\")"
   ]
  },
  {
   "cell_type": "code",
   "execution_count": 16,
   "id": "4d10395e",
   "metadata": {},
   "outputs": [
    {
     "name": "stdout",
     "output_type": "stream",
     "text": [
      "mse: 10976291.928597748\n",
      "rmse: 3313.048736224348\n",
      "mae: 2255.4865394351655\n"
     ]
    }
   ],
   "source": [
    "y_pred=lasso.predict(x_test)\n",
    "#check the accuracy of model\n",
    "mse=mean_squared_error(y_test,y_pred)\n",
    "rmse=mse**0.5\n",
    "mae=mean_absolute_error(y_test,y_pred)\n",
    "print(f\"mse: {mse}\\nrmse: {rmse}\\nmae: {mae}\")"
   ]
  },
  {
   "cell_type": "markdown",
   "id": "f8a18f46",
   "metadata": {},
   "source": [
    "###  Using Ridge Regression"
   ]
  },
  {
   "cell_type": "code",
   "execution_count": 17,
   "id": "cef3f0c3",
   "metadata": {},
   "outputs": [
    {
     "data": {
      "text/plain": [
       "Ridge()"
      ]
     },
     "execution_count": 17,
     "metadata": {},
     "output_type": "execute_result"
    }
   ],
   "source": [
    "ridge=Ridge()\n",
    "ridge.fit(x_train,y_train)"
   ]
  },
  {
   "cell_type": "code",
   "execution_count": 18,
   "id": "dc36578d",
   "metadata": {},
   "outputs": [
    {
     "name": "stdout",
     "output_type": "stream",
     "text": [
      "coefficient is: [ 5.26760122e+02  2.43388963e+02 -3.79083443e+01 -1.85112070e+02\n",
      " -3.08907871e+02 -5.52889944e+01 -1.14518171e+02 -1.72383513e+02\n",
      " -2.29001632e+02 -3.05209750e+01  5.06539453e+02  7.62505063e+01\n",
      " -5.26565927e+02 -4.19072262e+02 -1.32060037e+01  4.53708787e+02\n",
      " -3.21576234e+02 -8.96351540e+02 -7.60724774e+02 -1.26836239e+03\n",
      "  6.40630824e+02  2.02571673e+03  1.59433114e+03 -5.20193360e+02\n",
      " -8.45415641e+02  3.62450146e+02  5.89624752e+01 -9.58491151e+02\n",
      " -1.23452055e+03 -3.09730768e+03 -7.67025266e+03 -4.16078828e+03\n",
      " -3.16593461e+02 -3.43790954e+01 -1.23452055e+03  6.64301860e+00\n",
      " -3.92498477e+02  1.32060037e+01 -1.82096062e-27 -6.13767473e+02\n",
      " -3.51041646e+02 -2.82630149e+02  3.57581591e+02  8.52261665e+02\n",
      " -5.54872505e+02  2.19967907e+03  2.17607152e+02  1.97516838e+03\n",
      "  4.24111303e+02  5.33459520e+02 -2.59923829e+02 -1.40837364e+03]\n",
      "intercept is: 15207.959168913587\n"
     ]
    }
   ],
   "source": [
    "print(f\"coefficient is: {ridge.coef_}\")\n",
    "print(f\"intercept is: {ridge.intercept_}\")"
   ]
  },
  {
   "cell_type": "code",
   "execution_count": 19,
   "id": "f7f006fc",
   "metadata": {},
   "outputs": [
    {
     "name": "stdout",
     "output_type": "stream",
     "text": [
      "score for train data is: 0.9344517819958736\n",
      "score for test data is: 0.7689404435944702\n"
     ]
    }
   ],
   "source": [
    "#check the model for overfitting or underfitting\n",
    "print(f\"score for train data is: {lr.score(x_train,y_train)}\")\n",
    "print(f\"score for test data is: {lr.score(x_test,y_test)}\")"
   ]
  },
  {
   "cell_type": "code",
   "execution_count": 20,
   "id": "14a4ef9b",
   "metadata": {},
   "outputs": [
    {
     "name": "stdout",
     "output_type": "stream",
     "text": [
      "mse: 10976291.928597748\n",
      "rmse: 3313.048736224348\n",
      "mae: 2255.4865394351655\n"
     ]
    }
   ],
   "source": [
    "y_lasso=lasso.predict(x_test)\n",
    "#check the accuracy of model\n",
    "mse=mean_squared_error(y_test,y_lasso)\n",
    "rmse=mse**0.5\n",
    "mae=mean_absolute_error(y_test,y_lasso)\n",
    "print(f\"mse: {mse}\\nrmse: {rmse}\\nmae: {mae}\")"
   ]
  },
  {
   "cell_type": "markdown",
   "id": "31ceace0",
   "metadata": {},
   "source": [
    "### using hyperparameter tuning with ridge_regression"
   ]
  },
  {
   "cell_type": "code",
   "execution_count": 21,
   "id": "4dfa34d6",
   "metadata": {},
   "outputs": [],
   "source": [
    "parms={'alpha':[1.0,2.0,3.0,4.0],'solver':['auto', 'svd', 'cholesky', 'lsqr', 'sparse_cg', 'sag', 'saga']}\n",
    "cv=KFold(n_splits=5)\n",
    "clf=RandomizedSearchCV(ridge,param_distributions=parms,cv=cv,n_jobs=-1,n_iter=1000,scoring='accuracy')"
   ]
  },
  {
   "cell_type": "code",
   "execution_count": 22,
   "id": "2b14a45e",
   "metadata": {},
   "outputs": [
    {
     "name": "stderr",
     "output_type": "stream",
     "text": [
      "/home/vaishu/.local/lib/python3.8/site-packages/sklearn/model_selection/_search.py:285: UserWarning: The total space of parameters 28 is smaller than n_iter=1000. Running 28 iterations. For exhaustive searches, use GridSearchCV.\n",
      "  warnings.warn(\n",
      "/home/vaishu/.local/lib/python3.8/site-packages/sklearn/model_selection/_search.py:922: UserWarning: One or more of the test scores are non-finite: [nan nan nan nan nan nan nan nan nan nan nan nan nan nan nan nan nan nan\n",
      " nan nan nan nan nan nan nan nan nan nan]\n",
      "  warnings.warn(\n"
     ]
    },
    {
     "data": {
      "text/plain": [
       "RandomizedSearchCV(cv=KFold(n_splits=5, random_state=None, shuffle=False),\n",
       "                   estimator=Ridge(), n_iter=1000, n_jobs=-1,\n",
       "                   param_distributions={'alpha': [1.0, 2.0, 3.0, 4.0],\n",
       "                                        'solver': ['auto', 'svd', 'cholesky',\n",
       "                                                   'lsqr', 'sparse_cg', 'sag',\n",
       "                                                   'saga']},\n",
       "                   scoring='accuracy')"
      ]
     },
     "execution_count": 22,
     "metadata": {},
     "output_type": "execute_result"
    }
   ],
   "source": [
    "clf.fit(x_train,y_train)"
   ]
  },
  {
   "cell_type": "code",
   "execution_count": 23,
   "id": "c5e4658b",
   "metadata": {},
   "outputs": [
    {
     "name": "stdout",
     "output_type": "stream",
     "text": [
      "mse: 11933514.23147552\n",
      "rmse: 3454.491891939467\n",
      "mae: 2318.518038809644\n"
     ]
    }
   ],
   "source": [
    "y_pred_clf=clf.predict(x_test)\n",
    "mse=mean_squared_error(y_test,y_pred_clf)\n",
    "rmse=mse**0.5\n",
    "mae=mean_absolute_error(y_test,y_pred_clf)\n",
    "print(f\"mse: {mse}\\nrmse: {rmse}\\nmae: {mae}\")"
   ]
  },
  {
   "cell_type": "code",
   "execution_count": 24,
   "id": "a8191730",
   "metadata": {},
   "outputs": [
    {
     "data": {
      "text/plain": [
       "{'solver': 'auto', 'alpha': 1.0}"
      ]
     },
     "execution_count": 24,
     "metadata": {},
     "output_type": "execute_result"
    }
   ],
   "source": [
    "clf.best_params_"
   ]
  },
  {
   "cell_type": "code",
   "execution_count": null,
   "id": "1c4c17b0",
   "metadata": {},
   "outputs": [],
   "source": []
  },
  {
   "cell_type": "code",
   "execution_count": null,
   "id": "282c86da",
   "metadata": {},
   "outputs": [],
   "source": []
  }
 ],
 "metadata": {
  "kernelspec": {
   "display_name": "Python 3",
   "language": "python",
   "name": "python3"
  },
  "language_info": {
   "codemirror_mode": {
    "name": "ipython",
    "version": 3
   },
   "file_extension": ".py",
   "mimetype": "text/x-python",
   "name": "python",
   "nbconvert_exporter": "python",
   "pygments_lexer": "ipython3",
   "version": "3.8.5"
  }
 },
 "nbformat": 4,
 "nbformat_minor": 5
}
