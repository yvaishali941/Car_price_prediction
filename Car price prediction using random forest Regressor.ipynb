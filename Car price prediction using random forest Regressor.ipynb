{
 "cells": [
  {
   "cell_type": "code",
   "execution_count": 1,
   "id": "abd84025",
   "metadata": {},
   "outputs": [],
   "source": [
    "import numpy as np\n",
    "import pandas as pd\n",
    "from sklearn.model_selection import train_test_split,KFold,RandomizedSearchCV\n",
    "from sklearn.ensemble import RandomForestRegressor\n",
    "from sklearn.metrics import mean_squared_error,mean_absolute_error,r2_score\n"
   ]
  },
  {
   "cell_type": "code",
   "execution_count": 2,
   "id": "5ede1aae",
   "metadata": {},
   "outputs": [],
   "source": [
    "df=pd.read_csv('cpp_cleaned_data')"
   ]
  },
  {
   "cell_type": "code",
   "execution_count": 3,
   "id": "d84b04c7",
   "metadata": {},
   "outputs": [],
   "source": [
    "x=df.drop(['price'],axis=1)\n",
    "y=df['price']"
   ]
  },
  {
   "cell_type": "code",
   "execution_count": 4,
   "id": "c9aad943",
   "metadata": {},
   "outputs": [],
   "source": [
    "x_train,x_test,y_train,y_test=train_test_split(x,y,test_size=0.2,random_state=12)"
   ]
  },
  {
   "cell_type": "code",
   "execution_count": 5,
   "id": "0cabb21e",
   "metadata": {},
   "outputs": [],
   "source": [
    "rfr=RandomForestRegressor(n_estimators=600)\n",
    "rfr.fit(x_train,y_train)\n",
    "y_pred=rfr.predict(x_test)"
   ]
  },
  {
   "cell_type": "code",
   "execution_count": 6,
   "id": "50fac241",
   "metadata": {},
   "outputs": [
    {
     "name": "stdout",
     "output_type": "stream",
     "text": [
      "Score of train data: 0.9886208780311255\n",
      "Score of test data: 0.9175790175329829\n"
     ]
    }
   ],
   "source": [
    "print(f\"Score of train data: {rfr.score(x_train,y_train)}\")\n",
    "print(f\"Score of test data: {rfr.score(x_test,y_test)}\")"
   ]
  },
  {
   "cell_type": "code",
   "execution_count": 7,
   "id": "b34f022d",
   "metadata": {},
   "outputs": [
    {
     "data": {
      "text/plain": [
       "array([19640.54000167])"
      ]
     },
     "execution_count": 7,
     "metadata": {},
     "output_type": "execute_result"
    }
   ],
   "source": [
    "rfr.predict([x_test.iloc[1,:]])"
   ]
  },
  {
   "cell_type": "code",
   "execution_count": 8,
   "id": "18e0c995",
   "metadata": {},
   "outputs": [
    {
     "data": {
      "text/plain": [
       "17710.0"
      ]
     },
     "execution_count": 8,
     "metadata": {},
     "output_type": "execute_result"
    }
   ],
   "source": [
    "y_test.iloc[1]"
   ]
  },
  {
   "cell_type": "code",
   "execution_count": 9,
   "id": "dfc032a0",
   "metadata": {},
   "outputs": [
    {
     "name": "stdout",
     "output_type": "stream",
     "text": [
      "mse: 3915327.496867802\n",
      "rmse: 1978.7186502552104\n",
      "mae: 1280.5582268099108\n",
      "r2_score: 0.9175790175329829\n"
     ]
    }
   ],
   "source": [
    "#check the accuracy of model\n",
    "mse=mean_squared_error(y_test,y_pred)\n",
    "rmse=mse**0.5\n",
    "mae=mean_absolute_error(y_test,y_pred)\n",
    "r2_sc=r2_score(y_test,y_pred)\n",
    "print(f\"mse: {mse}\\nrmse: {rmse}\\nmae: {mae}\\nr2_score: {r2_sc}\")"
   ]
  },
  {
   "cell_type": "code",
   "execution_count": 10,
   "id": "211354be",
   "metadata": {},
   "outputs": [
    {
     "data": {
      "text/plain": [
       "0.9175790175329829"
      ]
     },
     "execution_count": 10,
     "metadata": {},
     "output_type": "execute_result"
    }
   ],
   "source": [
    "r2_score(y_test,y_pred)"
   ]
  },
  {
   "cell_type": "code",
   "execution_count": 11,
   "id": "e82430c0",
   "metadata": {},
   "outputs": [],
   "source": [
    "# Number of trees in random forest\n",
    "n_estimators = [int(x) for x in np.linspace(start = 200, stop = 2000, num = 10)]\n",
    "# Number of features to consider at every split\n",
    "max_features = ['auto', 'sqrt']\n",
    "# Maximum number of levels in tree\n",
    "max_depth = [int(x) for x in np.linspace(10, 110, num = 11)]\n",
    "max_depth.append(None)\n",
    "# Minimum number of samples required to split a node\n",
    "min_samples_split = [2, 5, 10]\n",
    "# Minimum number of samples required at each leaf node\n",
    "min_samples_leaf = [1, 2, 4]\n",
    "# Method of selecting samples for training each tree\n",
    "bootstrap = [True, False]\n",
    "# Create the random grid\n",
    "parm_grid = {'n_estimators': n_estimators,\n",
    "               'max_features': max_features,\n",
    "               'max_depth': max_depth,\n",
    "               'min_samples_split': min_samples_split,\n",
    "               'min_samples_leaf': min_samples_leaf,\n",
    "               'bootstrap': bootstrap}\n",
    "\n",
    "cv=KFold(n_splits=10,shuffle=True,random_state=12)\n",
    "rfr=RandomForestRegressor()"
   ]
  },
  {
   "cell_type": "code",
   "execution_count": 12,
   "id": "fe28cceb",
   "metadata": {},
   "outputs": [],
   "source": [
    "clf=RandomizedSearchCV(rfr,parm_grid,scoring='accuracy',cv=cv,n_jobs=-1,)"
   ]
  },
  {
   "cell_type": "code",
   "execution_count": 13,
   "id": "a1ef01b9",
   "metadata": {},
   "outputs": [
    {
     "name": "stderr",
     "output_type": "stream",
     "text": [
      "/home/vaishu/.local/lib/python3.8/site-packages/sklearn/model_selection/_search.py:922: UserWarning: One or more of the test scores are non-finite: [nan nan nan nan nan nan nan nan nan nan]\n",
      "  warnings.warn(\n"
     ]
    }
   ],
   "source": [
    "clf.fit(x_train,y_train)\n",
    "pred=clf.predict(x_test)"
   ]
  },
  {
   "cell_type": "code",
   "execution_count": 14,
   "id": "65611fc9",
   "metadata": {},
   "outputs": [
    {
     "data": {
      "text/plain": [
       "{'n_estimators': 1200,\n",
       " 'min_samples_split': 2,\n",
       " 'min_samples_leaf': 1,\n",
       " 'max_features': 'auto',\n",
       " 'max_depth': 40,\n",
       " 'bootstrap': False}"
      ]
     },
     "execution_count": 14,
     "metadata": {},
     "output_type": "execute_result"
    }
   ],
   "source": [
    "clf.best_params_"
   ]
  },
  {
   "cell_type": "code",
   "execution_count": 15,
   "id": "b1a18951",
   "metadata": {},
   "outputs": [
    {
     "data": {
      "text/plain": [
       "array([19376.25916667])"
      ]
     },
     "execution_count": 15,
     "metadata": {},
     "output_type": "execute_result"
    }
   ],
   "source": [
    "clf.predict([x_test.iloc[1,:]])"
   ]
  },
  {
   "cell_type": "code",
   "execution_count": 16,
   "id": "ee75437b",
   "metadata": {},
   "outputs": [
    {
     "data": {
      "text/plain": [
       "17710.0"
      ]
     },
     "execution_count": 16,
     "metadata": {},
     "output_type": "execute_result"
    }
   ],
   "source": [
    "y_test.iloc[1]"
   ]
  },
  {
   "cell_type": "code",
   "execution_count": 18,
   "id": "bba7d6eb",
   "metadata": {},
   "outputs": [
    {
     "name": "stderr",
     "output_type": "stream",
     "text": [
      "/home/vaishu/.local/lib/python3.8/site-packages/seaborn/distributions.py:2557: FutureWarning: `distplot` is a deprecated function and will be removed in a future version. Please adapt your code to use either `displot` (a figure-level function with similar flexibility) or `histplot` (an axes-level function for histograms).\n",
      "  warnings.warn(msg, FutureWarning)\n"
     ]
    },
    {
     "data": {
      "text/plain": [
       "<AxesSubplot:xlabel='price', ylabel='Density'>"
      ]
     },
     "execution_count": 18,
     "metadata": {},
     "output_type": "execute_result"
    },
    {
     "data": {
      "image/png": "[encoded data removed]",
      "text/plain": [
       "<Figure size 432x288 with 1 Axes>"
      ]
     },
     "metadata": {
      "needs_background": "light"
     },
     "output_type": "display_data"
    }
   ],
   "source": [
    "import seaborn as sns\n",
    "sns.distplot(y_test-pred)"
   ]
  },
  {
   "cell_type": "code",
   "execution_count": 19,
   "id": "b96dadf8",
   "metadata": {},
   "outputs": [
    {
     "data": {
      "text/plain": [
       "<matplotlib.collections.PathCollection at 0x7f277245a1c0>"
      ]
     },
     "execution_count": 19,
     "metadata": {},
     "output_type": "execute_result"
    },
    {
     "data": {
      "image/png": "[encoded data removed]",
      "text/plain": [
       "<Figure size 432x288 with 1 Axes>"
      ]
     },
     "metadata": {
      "needs_background": "light"
     },
     "output_type": "display_data"
    }
   ],
   "source": [
    "import matplotlib.pyplot as plt\n",
    "plt.scatter(y_test,pred)"
   ]
  },
  {
   "cell_type": "code",
   "execution_count": null,
   "id": "a2aadcce",
   "metadata": {},
   "outputs": [],
   "source": [
    "#check the accuracy of model\n",
    "mse=mean_squared_error(y_test,pred)\n",
    "rmse=mse**0.5\n",
    "mae=mean_absolute_error(y_test,pred)\n",
    "r2_sc=r2_score(y_test,pred)\n",
    "print(f\"mse: {mse}\\nrmse: {rmse}\\nmae: {mae}\\nr2_score: {r2_sc}\")"
   ]
  },
  {
   "cell_type": "code",
   "execution_count": null,
   "id": "d9765568",
   "metadata": {},
   "outputs": [],
   "source": []
  }
 ],
 "metadata": {
  "kernelspec": {
   "display_name": "Python 3",
   "language": "python",
   "name": "python3"
  },
  "language_info": {
   "codemirror_mode": {
    "name": "ipython",
    "version": 3
   },
   "file_extension": ".py",
   "mimetype": "text/x-python",
   "name": "python",
   "nbconvert_exporter": "python",
   "pygments_lexer": "ipython3",
   "version": "3.8.5"
  }
 },
 "nbformat": 4,
 "nbformat_minor": 5
}
