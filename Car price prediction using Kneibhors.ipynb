{
 "cells": [
  {
   "cell_type": "code",
   "execution_count": 1,
   "id": "7cf04074",
   "metadata": {},
   "outputs": [],
   "source": [
    "import numpy as np\n",
    "import pandas as pd\n",
    "from sklearn.model_selection import train_test_split,KFold,RandomizedSearchCV\n",
    "from sklearn.neighbors import KNeighborsRegressor\n",
    "from sklearn.metrics import mean_squared_error,mean_absolute_error,r2_score"
   ]
  },
  {
   "cell_type": "code",
   "execution_count": 2,
   "id": "1bc1b7ff",
   "metadata": {},
   "outputs": [],
   "source": [
    "df=pd.read_csv('cpp_cleaned_data')"
   ]
  },
  {
   "cell_type": "code",
   "execution_count": 3,
   "id": "beac794c",
   "metadata": {},
   "outputs": [],
   "source": [
    "x=df.drop(['price'],axis=1)\n",
    "y=df['price']"
   ]
  },
  {
   "cell_type": "code",
   "execution_count": 4,
   "id": "a4cd0694",
   "metadata": {},
   "outputs": [],
   "source": [
    "x_train,x_test,y_train,y_test=train_test_split(x,y,test_size=0.2,random_state=41)"
   ]
  },
  {
   "cell_type": "code",
   "execution_count": 5,
   "id": "9451565e",
   "metadata": {},
   "outputs": [
    {
     "name": "stdout",
     "output_type": "stream",
     "text": [
      "score for train data: 0.8264501108970426\n",
      "score for test data: 0.7368921028172619\n"
     ]
    }
   ],
   "source": [
    "knr=KNeighborsRegressor()\n",
    "knr.fit(x_train,y_train)\n",
    "\n",
    "print(f'score for train data: {knr.score(x_train,y_train)}')\n",
    "print(f'score for test data: {knr.score(x_test,y_test)}')"
   ]
  },
  {
   "cell_type": "code",
   "execution_count": 7,
   "id": "72b3b553",
   "metadata": {},
   "outputs": [
    {
     "name": "stdout",
     "output_type": "stream",
     "text": [
      "predicted: [12245.]\n",
      "true: 10945.0\n"
     ]
    }
   ],
   "source": [
    "print(f\"predicted: {knr.predict([x_test.iloc[-1,:]])}\\ntrue: {y_test.iloc[-1]}\")"
   ]
  },
  {
   "cell_type": "code",
   "execution_count": 40,
   "id": "10fb5c47",
   "metadata": {},
   "outputs": [
    {
     "name": "stdout",
     "output_type": "stream",
     "text": [
      "mse: 7127472.61383469\n",
      "rmse: 2669.732685838545\n",
      "mae: 1957.6991788617888\n",
      "r_squared: 0.8144952893806129\n"
     ]
    }
   ],
   "source": [
    "y_pred=knr.predict(x_test)\n",
    "mse=mean_squared_error(y_test,y_pred)\n",
    "rmse=mse**0.5\n",
    "mae=mean_absolute_error(y_test,y_pred)\n",
    "r_squared=r2_score(y_test,y_pred)\n",
    "print(f\"mse: {mse}\\nrmse: {rmse}\\nmae: {mae}\\nr_squared: {r_squared}\")"
   ]
  },
  {
   "cell_type": "code",
   "execution_count": null,
   "id": "d175a8c5",
   "metadata": {},
   "outputs": [],
   "source": []
  },
  {
   "cell_type": "markdown",
   "id": "b8f5cd2d",
   "metadata": {},
   "source": [
    "Elbow method for increase accuracy"
   ]
  },
  {
   "cell_type": "code",
   "execution_count": 10,
   "id": "a3d16ab9",
   "metadata": {},
   "outputs": [
    {
     "data": {
      "image/png": "[encoded data removed]",
      "text/plain": [
       "<Figure size 432x288 with 1 Axes>"
      ]
     },
     "metadata": {
      "needs_background": "light"
     },
     "output_type": "display_data"
    }
   ],
   "source": [
    "import matplotlib.pyplot as plt\n",
    "error_rate=[]\n",
    "for i in range (1,50):\n",
    "    knn=KNeighborsRegressor(n_neighbors=i)\n",
    "    knn.fit(x_train,y_train)\n",
    "    knn_pre=knn.predict(x_test)\n",
    "    error_rate.append(np.mean(knn_pre!=y_test))\n",
    "    \n",
    "plt.plot(range(1,50),error_rate,linestyle='dashed')\n",
    "plt.xlabel('K-value')\n",
    "plt.ylabel('error-rate')\n",
    "plt.show()"
   ]
  },
  {
   "cell_type": "code",
   "execution_count": 38,
   "id": "eae5a170",
   "metadata": {},
   "outputs": [
    {
     "name": "stdout",
     "output_type": "stream",
     "text": [
      "score for train data: 0.8971805848985644\n",
      "score for test data: 0.8144952893806129\n"
     ]
    }
   ],
   "source": [
    "knr_3=KNeighborsRegressor(n_neighbors=3)\n",
    "knr_3.fit(x_train,y_train)\n",
    "\n",
    "print(f'score for train data: {knr_3.score(x_train,y_train)}')\n",
    "print(f'score for test data: {knr_3.score(x_test,y_test)}')"
   ]
  },
  {
   "cell_type": "code",
   "execution_count": 39,
   "id": "a688e2e4",
   "metadata": {},
   "outputs": [
    {
     "name": "stdout",
     "output_type": "stream",
     "text": [
      "predicted: [13711.66666667]\n",
      "true: 10945.0\n"
     ]
    }
   ],
   "source": [
    "print(f\"predicted: {knr_3.predict([x_test.iloc[-1,:]])}\\ntrue: {y_test.iloc[-1]}\")"
   ]
  },
  {
   "cell_type": "code",
   "execution_count": 42,
   "id": "b62bfeaf",
   "metadata": {},
   "outputs": [
    {
     "name": "stdout",
     "output_type": "stream",
     "text": [
      "mse: 7127472.61383469\n",
      "rmse: 2669.732685838545\n",
      "mae: 1957.6991788617888\n",
      "r_squared: 0.8144952893806129\n"
     ]
    }
   ],
   "source": [
    "y_pred1=knr_3.predict(x_test)\n",
    "mse=mean_squared_error(y_test,y_pred1)\n",
    "rmse=mse**0.5\n",
    "mae=mean_absolute_error(y_test,y_pred1)\n",
    "r_squared=r2_score(y_test,y_pred1)\n",
    "print(f\"mse: {mse}\\nrmse: {rmse}\\nmae: {mae}\\nr_squared: {r_squared}\")"
   ]
  },
  {
   "cell_type": "markdown",
   "id": "f8c8e4d6",
   "metadata": {},
   "source": [
    "HyperParameterTuning:"
   ]
  },
  {
   "cell_type": "code",
   "execution_count": 29,
   "id": "d7f860b3",
   "metadata": {},
   "outputs": [],
   "source": [
    "knr_h=KNeighborsRegressor()\n",
    "params={'n_neighbors':[1,2,3,4,5,6],\n",
    "        'weights':['uniform', 'distance'],\n",
    "        'algorithm':['auto', 'ball_tree', 'kd_tree', 'brute'],\n",
    "       }\n",
    "cv=KFold(n_splits=5,shuffle=True,random_state=41)\n",
    "\n",
    "clf=RandomizedSearchCV(knr_h,params,cv=cv,n_jobs=-1,verbose=3,scoring='accuracy',n_iter=100)"
   ]
  },
  {
   "cell_type": "code",
   "execution_count": 30,
   "id": "b9b3e141",
   "metadata": {},
   "outputs": [
    {
     "name": "stdout",
     "output_type": "stream",
     "text": [
      "Fitting 5 folds for each of 48 candidates, totalling 240 fits\n"
     ]
    },
    {
     "name": "stderr",
     "output_type": "stream",
     "text": [
      "/home/vaishu/.local/lib/python3.8/site-packages/sklearn/model_selection/_search.py:285: UserWarning: The total space of parameters 48 is smaller than n_iter=100. Running 48 iterations. For exhaustive searches, use GridSearchCV.\n",
      "  warnings.warn(\n",
      "/home/vaishu/.local/lib/python3.8/site-packages/sklearn/model_selection/_search.py:922: UserWarning: One or more of the test scores are non-finite: [nan nan nan nan nan nan nan nan nan nan nan nan nan nan nan nan nan nan\n",
      " nan nan nan nan nan nan nan nan nan nan nan nan nan nan nan nan nan nan\n",
      " nan nan nan nan nan nan nan nan nan nan nan nan]\n",
      "  warnings.warn(\n"
     ]
    },
    {
     "data": {
      "text/plain": [
       "RandomizedSearchCV(cv=KFold(n_splits=5, random_state=41, shuffle=True),\n",
       "                   estimator=KNeighborsRegressor(), n_iter=100, n_jobs=-1,\n",
       "                   param_distributions={'algorithm': ['auto', 'ball_tree',\n",
       "                                                      'kd_tree', 'brute'],\n",
       "                                        'n_neighbors': [1, 2, 3, 4, 5, 6],\n",
       "                                        'weights': ['uniform', 'distance']},\n",
       "                   scoring='accuracy', verbose=3)"
      ]
     },
     "execution_count": 30,
     "metadata": {},
     "output_type": "execute_result"
    }
   ],
   "source": [
    "clf.fit(x_train,y_train)"
   ]
  },
  {
   "cell_type": "code",
   "execution_count": 33,
   "id": "6da59bf3",
   "metadata": {},
   "outputs": [
    {
     "name": "stdout",
     "output_type": "stream",
     "text": [
      "predicted: [11845.]\n",
      "true: 10945.0\n"
     ]
    }
   ],
   "source": [
    "\n",
    "print(f\"predicted: {clf.predict([x_test.iloc[-1,:]])}\\ntrue: {y_test.iloc[-1]}\")"
   ]
  },
  {
   "cell_type": "code",
   "execution_count": 34,
   "id": "c3d0bd70",
   "metadata": {},
   "outputs": [
    {
     "data": {
      "text/plain": [
       "{'weights': 'uniform', 'n_neighbors': 1, 'algorithm': 'auto'}"
      ]
     },
     "execution_count": 34,
     "metadata": {},
     "output_type": "execute_result"
    }
   ],
   "source": [
    "clf.best_params_"
   ]
  },
  {
   "cell_type": "code",
   "execution_count": 43,
   "id": "e9ea69d3",
   "metadata": {},
   "outputs": [
    {
     "name": "stdout",
     "output_type": "stream",
     "text": [
      "mse: 15002955.480094852\n",
      "rmse: 3873.3648782544165\n",
      "mae: 3014.5812926829267\n",
      "r_squared: 0.8144952893806129\n"
     ]
    }
   ],
   "source": [
    "y_predh=clf.predict(x_test)\n",
    "mse=mean_squared_error(y_test,y_predh)\n",
    "rmse=mse**0.5\n",
    "mae=mean_absolute_error(y_test,y_predh)\n",
    "r_squared=r2_score(y_test,y_pred1)\n",
    "print(f\"mse: {mse}\\nrmse: {rmse}\\nmae: {mae}\\nr_squared: {r_squared}\")"
   ]
  },
  {
   "cell_type": "code",
   "execution_count": null,
   "id": "cc40fa2e",
   "metadata": {},
   "outputs": [],
   "source": [
    "#Knr_3 was best with accuracy"
   ]
  }
 ],
 "metadata": {
  "kernelspec": {
   "display_name": "Python 3",
   "language": "python",
   "name": "python3"
  },
  "language_info": {
   "codemirror_mode": {
    "name": "ipython",
    "version": 3
   },
   "file_extension": ".py",
   "mimetype": "text/x-python",
   "name": "python",
   "nbconvert_exporter": "python",
   "pygments_lexer": "ipython3",
   "version": "3.8.5"
  }
 },
 "nbformat": 4,
 "nbformat_minor": 5
}
