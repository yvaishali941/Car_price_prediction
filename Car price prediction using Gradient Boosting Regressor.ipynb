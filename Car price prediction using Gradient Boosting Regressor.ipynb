{
 "cells": [
  {
   "cell_type": "code",
   "execution_count": 1,
   "id": "7becd481",
   "metadata": {},
   "outputs": [],
   "source": [
    "import pandas as pd\n",
    "import numpy as np\n",
    "from sklearn.model_selection import KFold\n",
    "from sklearn.ensemble import GradientBoostingRegressor"
   ]
  },
  {
   "cell_type": "code",
   "execution_count": 2,
   "id": "780b1b02",
   "metadata": {},
   "outputs": [],
   "source": [
    "df=pd.read_csv('cpp_cleaned_data')"
   ]
  },
  {
   "cell_type": "code",
   "execution_count": 3,
   "id": "3bb4b91b",
   "metadata": {},
   "outputs": [],
   "source": [
    "kf=KFold(n_splits=10)\n"
   ]
  },
  {
   "cell_type": "code",
   "execution_count": 4,
   "id": "64b078a9",
   "metadata": {},
   "outputs": [],
   "source": [
    "x=df.drop(['price'],axis=1)\n",
    "y=df['price']"
   ]
  },
  {
   "cell_type": "markdown",
   "id": "1f5e02f9",
   "metadata": {},
   "source": [
    "# dummy model"
   ]
  },
  {
   "cell_type": "code",
   "execution_count": 53,
   "id": "4efdc81b",
   "metadata": {},
   "outputs": [],
   "source": [
    "sco_tr=[]\n",
    "sco_ts=[]\n",
    "for train_index,test_index in kf.split(x):\n",
    "    x_train,x_test,y_train,y_test=x.loc[train_index],x.loc[test_index],y[train_index],y[test_index]\n",
    "    gb=GradientBoostingRegressor(n_estimators= 10,max_depth=2,learning_rate=1.0)\n",
    "    gb.fit(x_train,y_train)\n",
    "    sco_tr.append(gb.score(x_train,y_train))\n",
    "    sco_ts.append(gb.score(x_test,y_test))\n",
    "    \n",
    " "
   ]
  },
  {
   "cell_type": "code",
   "execution_count": 54,
   "id": "a853dd31",
   "metadata": {},
   "outputs": [
    {
     "name": "stdout",
     "output_type": "stream",
     "text": [
      "[0.9748918537693887, 0.9647422700703433, 0.9598756417553803, 0.9590906987910252, 0.9657555939930068, 0.9714985451035408, 0.9625669509011432, 0.9720217089356359, 0.9703805278843298, 0.9662273555096795] and\n",
      "mean score: 0.9667051146713475\n",
      "[0.5718936687224438, 0.5573586035739695, 0.8267904717243209, 0.7343586644137439, 0.5738341973792699, 0.1260492711047012, 0.8217063696246951, -0.18016284750208644, 0.1441075123476686, 0.6851990169647462] and\n",
      "mean score: 0.4861134928353471\n"
     ]
    }
   ],
   "source": [
    "print(f'{sco_tr} and\\nmean score: {np.array(sco_tr).mean()}')\n",
    "print(f'{sco_ts} and\\nmean score: {np.array(sco_ts).mean()}')"
   ]
  },
  {
   "cell_type": "code",
   "execution_count": 55,
   "id": "7f17c2f0",
   "metadata": {},
   "outputs": [
    {
     "data": {
      "text/plain": [
       "array([16044.07341013])"
      ]
     },
     "execution_count": 55,
     "metadata": {},
     "output_type": "execute_result"
    }
   ],
   "source": [
    "gb.predict([x_test.iloc[10,:]])"
   ]
  },
  {
   "cell_type": "code",
   "execution_count": 56,
   "id": "07984778",
   "metadata": {},
   "outputs": [
    {
     "data": {
      "text/plain": [
       "13415.0"
      ]
     },
     "execution_count": 56,
     "metadata": {},
     "output_type": "execute_result"
    }
   ],
   "source": [
    "y_test.iloc[10]"
   ]
  },
  {
   "cell_type": "markdown",
   "id": "8828c1f3",
   "metadata": {},
   "source": [
    "# using Hyperparameter tuning"
   ]
  },
  {
   "cell_type": "code",
   "execution_count": 38,
   "id": "8e38fb1f",
   "metadata": {},
   "outputs": [],
   "source": [
    "from sklearn.model_selection import RandomizedSearchCV\n",
    "# Number of trees in random forest\n",
    "n_estimators = [int(x) for x in np.linspace(start = 10, stop = 1000, num = 100)]\n",
    "# Number of features to consider at every split\n",
    "max_features = ['auto', 'sqrt']\n",
    "# Maximum number of levels in tree\n",
    "max_depth = [int(x) for x in np.linspace(2, 40, num = 20)]\n",
    "max_depth.append(None)\n",
    "# Minimum number of samples required to split a node\n",
    "min_samples_split = [2, 5, 10]\n",
    "# Minimum number of samples required at each leaf node\n",
    "min_samples_leaf = [1, 2, 4]\n",
    "# Create the random grid\n",
    "parm_grid = {'n_estimators': n_estimators,\n",
    "               'max_features': max_features,\n",
    "               'max_depth': max_depth,\n",
    "               'min_samples_split': min_samples_split,\n",
    "               'min_samples_leaf': min_samples_leaf,\n",
    "               'learning_rate':[0.1,0.2,0.3,0.4,0.5,0.6,0.7,0.8,0.9,1.0,2.0],\n",
    "               'loss' : ['ls', 'lad', 'huber', 'quantile']}\n",
    "\n",
    "cv=KFold(n_splits=10,shuffle=True,random_state=12)\n",
    "rfr=GradientBoostingRegressor()"
   ]
  },
  {
   "cell_type": "code",
   "execution_count": 39,
   "id": "44d92cb9",
   "metadata": {},
   "outputs": [],
   "source": [
    "clf=RandomizedSearchCV(rfr,parm_grid,scoring='accuracy',cv=cv,n_jobs=-1,verbose=3,n_iter=100)"
   ]
  },
  {
   "cell_type": "code",
   "execution_count": 40,
   "id": "e446faa1",
   "metadata": {},
   "outputs": [
    {
     "name": "stdout",
     "output_type": "stream",
     "text": [
      "Fitting 10 folds for each of 100 candidates, totalling 1000 fits\n"
     ]
    },
    {
     "name": "stderr",
     "output_type": "stream",
     "text": [
      "/home/vaishu/.local/lib/python3.8/site-packages/sklearn/model_selection/_search.py:922: UserWarning: One or more of the test scores are non-finite: [nan nan nan nan nan nan nan nan nan nan nan nan nan nan nan nan nan nan\n",
      " nan nan nan nan nan nan nan nan nan nan nan nan nan nan nan nan nan nan\n",
      " nan nan nan nan nan nan nan nan nan nan nan nan nan nan nan nan nan nan\n",
      " nan nan nan nan nan nan nan nan nan nan nan nan nan nan nan nan nan nan\n",
      " nan nan nan nan nan nan nan nan nan nan nan nan nan nan nan nan nan nan\n",
      " nan nan nan nan nan nan nan nan nan nan]\n",
      "  warnings.warn(\n"
     ]
    },
    {
     "data": {
      "text/plain": [
       "RandomizedSearchCV(cv=KFold(n_splits=10, random_state=12, shuffle=True),\n",
       "                   estimator=GradientBoostingRegressor(), n_iter=100, n_jobs=-1,\n",
       "                   param_distributions={'learning_rate': [0.1, 0.2, 0.3, 0.4,\n",
       "                                                          0.5, 0.6, 0.7, 0.8,\n",
       "                                                          0.9, 1.0, 2.0],\n",
       "                                        'loss': ['ls', 'lad', 'huber',\n",
       "                                                 'quantile'],\n",
       "                                        'max_depth': [2, 4, 6, 8, 10, 12, 14,\n",
       "                                                      16, 18, 20, 22, 24, 26,\n",
       "                                                      28, 30, 32, 34, 36, 38,\n",
       "                                                      40, None],\n",
       "                                        'max_features': ['auto', 'sqrt'],\n",
       "                                        'min_samples_leaf': [1, 2, 4],\n",
       "                                        'min_samples_split': [2, 5, 10],\n",
       "                                        'n_estimators': [10, 20, 30, 40, 50, 60,\n",
       "                                                         70, 80, 90, 100, 110,\n",
       "                                                         120, 130, 140, 150,\n",
       "                                                         160, 170, 180, 190,\n",
       "                                                         200, 210, 220, 230,\n",
       "                                                         240, 250, 260, 270,\n",
       "                                                         280, 290, 300, ...]},\n",
       "                   scoring='accuracy', verbose=3)"
      ]
     },
     "execution_count": 40,
     "metadata": {},
     "output_type": "execute_result"
    }
   ],
   "source": [
    "clf.fit(x_train,y_train)"
   ]
  },
  {
   "cell_type": "code",
   "execution_count": 41,
   "id": "304a01d0",
   "metadata": {},
   "outputs": [
    {
     "data": {
      "text/plain": [
       "{'n_estimators': 580,\n",
       " 'min_samples_split': 2,\n",
       " 'min_samples_leaf': 1,\n",
       " 'max_features': 'auto',\n",
       " 'max_depth': 2,\n",
       " 'loss': 'huber',\n",
       " 'learning_rate': 0.3}"
      ]
     },
     "execution_count": 41,
     "metadata": {},
     "output_type": "execute_result"
    }
   ],
   "source": [
    "clf.best_params_"
   ]
  },
  {
   "cell_type": "code",
   "execution_count": null,
   "id": "e2e2a043",
   "metadata": {},
   "outputs": [],
   "source": []
  },
  {
   "cell_type": "code",
   "execution_count": null,
   "id": "3af6ec36",
   "metadata": {},
   "outputs": [],
   "source": [
    "# using best params get from hyperparameter tuning"
   ]
  },
  {
   "cell_type": "code",
   "execution_count": 57,
   "id": "4b0813da",
   "metadata": {},
   "outputs": [],
   "source": [
    "sco_tr=[]\n",
    "sco_ts=[]\n",
    "for train_index,test_index in kf.split(x):\n",
    "    x_train,x_test,y_train,y_test=x.loc[train_index],x.loc[test_index],y[train_index],y[test_index]\n",
    "    gb1=GradientBoostingRegressor(n_estimators= 580,min_samples_split=2,min_samples_leaf=1,max_features='auto',max_depth=2,loss='huber',learning_rate=0.3)\n",
    "    gb1.fit(x_train,y_train)\n",
    "    sco_tr.append(gb1.score(x_train,y_train))\n",
    "    sco_ts.append(gb1.score(x_test,y_test))"
   ]
  },
  {
   "cell_type": "code",
   "execution_count": 58,
   "id": "bce3e036",
   "metadata": {},
   "outputs": [
    {
     "name": "stdout",
     "output_type": "stream",
     "text": [
      "[0.9983333294593434, 0.9978853404932531, 0.99839002089837, 0.9973395715119681, 0.9981994944776252, 0.9983377088234394, 0.9969604478524535, 0.9985953477590317, 0.9984464251562927, 0.9984839647153614] and\n",
      "mean score: 0.9980971651147138\n",
      "[0.7249013462141745, 0.20708650432480513, 0.8525623616996281, 0.8677592939390324, -0.7796753229113871, -0.037211117255899095, 0.7673202634261378, -0.8486590482612741, -0.3834645686243461, 0.3706468259154597] and\n",
      "mean score: 0.17412665384663312\n"
     ]
    }
   ],
   "source": [
    "print(f'{sco_tr} and\\nmean score: {np.array(sco_tr).mean()}')\n",
    "print(f'{sco_ts} and\\nmean score: {np.array(sco_ts).mean()}')"
   ]
  },
  {
   "cell_type": "code",
   "execution_count": 59,
   "id": "7965d480",
   "metadata": {},
   "outputs": [
    {
     "data": {
      "text/plain": [
       "(array([15002.4345855]), 13415.0)"
      ]
     },
     "execution_count": 59,
     "metadata": {},
     "output_type": "execute_result"
    }
   ],
   "source": [
    "gb1.predict([x_test.iloc[10,:]]),y_test.iloc[10]"
   ]
  },
  {
   "cell_type": "code",
   "execution_count": null,
   "id": "11874d7d",
   "metadata": {},
   "outputs": [],
   "source": []
  }
 ],
 "metadata": {
  "kernelspec": {
   "display_name": "Python 3",
   "language": "python",
   "name": "python3"
  },
  "language_info": {
   "codemirror_mode": {
    "name": "ipython",
    "version": 3
   },
   "file_extension": ".py",
   "mimetype": "text/x-python",
   "name": "python",
   "nbconvert_exporter": "python",
   "pygments_lexer": "ipython3",
   "version": "3.8.5"
  }
 },
 "nbformat": 4,
 "nbformat_minor": 5
}
